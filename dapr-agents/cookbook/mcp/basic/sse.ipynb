{
 "cells": [
  {
   "cell_type": "markdown",
   "metadata": {},
   "source": [
    "# Basic Weather Agent with MCP Support (SSE Transport)\n",
    "\n",
    "* Collaborator: Roberto Rodriguez @Cyb3rWard0g"
   ]
  },
  {
   "cell_type": "markdown",
   "metadata": {},
   "source": [
    "## Install Required Libraries\n",
    "Before starting, ensure the required libraries are installed:"
   ]
  },
  {
   "cell_type": "code",
   "execution_count": null,
   "metadata": {},
   "outputs": [],
   "source": [
    "!pip install dapr-agents python-dotenv mcp starlette"
   ]
  },
  {
   "cell_type": "markdown",
   "metadata": {},
   "source": [
    "## Import Environment Variables"
   ]
  },
  {
   "cell_type": "code",
   "execution_count": 1,
   "metadata": {},
   "outputs": [
    {
     "data": {
      "text/plain": [
       "True"
      ]
     },
     "execution_count": 1,
     "metadata": {},
     "output_type": "execute_result"
    }
   ],
   "source": [
    "from dotenv import load_dotenv\n",
    "load_dotenv()  # take environment variables from .env."
   ]
  },
  {
   "cell_type": "markdown",
   "metadata": {},
   "source": [
    "## Enable Logging"
   ]
  },
  {
   "cell_type": "code",
   "execution_count": 2,
   "metadata": {},
   "outputs": [],
   "source": [
    "import logging\n",
    "\n",
    "logging.basicConfig(level=logging.INFO)"
   ]
  },
  {
   "cell_type": "markdown",
   "metadata": {},
   "source": [
    "## Connect to MCP Server and Get Tools"
   ]
  },
  {
   "cell_type": "code",
   "execution_count": null,
   "metadata": {},
   "outputs": [],
   "source": [
    "# Initialize MCP SSE Server\n",
    "# uv run servers/weather_server.py --server_type sse"
   ]
  },
  {
   "cell_type": "code",
   "execution_count": 3,
   "metadata": {},
   "outputs": [
    {
     "name": "stderr",
     "output_type": "stream",
     "text": [
      "/Users/wardog/Documents/GitHub/dapr-agents/.venv/lib/python3.13/site-packages/tqdm/auto.py:21: TqdmWarning: IProgress not found. Please update jupyter and ipywidgets. See https://ipywidgets.readthedocs.io/en/stable/user_install.html\n",
      "  from .autonotebook import tqdm as notebook_tqdm\n",
      "INFO:mcp.client.sse:Connecting to SSE endpoint: http://localhost:8000/sse\n",
      "INFO:httpx:HTTP Request: GET http://localhost:8000/sse \"HTTP/1.1 200 OK\"\n",
      "INFO:mcp.client.sse:Received endpoint URL: http://localhost:8000/messages/?session_id=eb9d73eedeec4c78a9ab4746112b1e80\n",
      "INFO:mcp.client.sse:Starting post writer with endpoint URL: http://localhost:8000/messages/?session_id=eb9d73eedeec4c78a9ab4746112b1e80\n",
      "INFO:httpx:HTTP Request: POST http://localhost:8000/messages/?session_id=eb9d73eedeec4c78a9ab4746112b1e80 \"HTTP/1.1 202 Accepted\"\n",
      "INFO:httpx:HTTP Request: POST http://localhost:8000/messages/?session_id=eb9d73eedeec4c78a9ab4746112b1e80 \"HTTP/1.1 202 Accepted\"\n",
      "INFO:httpx:HTTP Request: POST http://localhost:8000/messages/?session_id=eb9d73eedeec4c78a9ab4746112b1e80 \"HTTP/1.1 202 Accepted\"\n",
      "INFO:dapr_agents.llm.openai.client.base:Initializing OpenAI client...\n",
      "INFO:dapr_agents.tool.executor:Tool registered: GetWeather\n",
      "INFO:dapr_agents.tool.executor:Tool registered: Jump\n",
      "INFO:dapr_agents.tool.executor:Tool Executor initialized with 2 tool(s).\n",
      "INFO:dapr_agents.agents.base:Constructing system_prompt from agent attributes.\n",
      "INFO:dapr_agents.agents.base:Using system_prompt to create the prompt template.\n",
      "INFO:dapr_agents.agents.base:Pre-filled prompt template with attributes: ['name', 'role', 'goal']\n",
      "INFO:dapr_agents.agents.agent.agent:Iteration 1/10 started.\n",
      "INFO:dapr_agents.llm.utils.request:Tools are available in the request.\n",
      "INFO:dapr_agents.llm.openai.chat:Invoking ChatCompletion API.\n"
     ]
    },
    {
     "name": "stdout",
     "output_type": "stream",
     "text": [
      "\u001b[38;2;242;182;128muser:\u001b[0m\n",
      "\u001b[38;2;242;182;128m\u001b[0m\u001b[38;2;242;182;128mWhat is the weather in Virginia?\u001b[0m\u001b[0m\n",
      "\u001b[0m\u001b[0m\n",
      "\u001b[0m--------------------------------------------------------------------------------\u001b[0m\n",
      "\u001b[0m\u001b[0m\u001b[0m\n"
     ]
    },
    {
     "name": "stderr",
     "output_type": "stream",
     "text": [
      "INFO:httpx:HTTP Request: POST https://api.openai.com/v1/chat/completions \"HTTP/1.1 200 OK\"\n",
      "INFO:dapr_agents.llm.openai.chat:Chat completion retrieved successfully.\n",
      "INFO:dapr_agents.agents.agent.agent:Executing GetWeather with arguments {'location': 'Virginia'}\n",
      "INFO:dapr_agents.tool.executor:Running tool (auto): GetWeather\n",
      "INFO:httpx:HTTP Request: POST http://localhost:8000/messages/?session_id=eb9d73eedeec4c78a9ab4746112b1e80 \"HTTP/1.1 202 Accepted\"\n",
      "INFO:dapr_agents.agents.agent.agent:Iteration 2/10 started.\n",
      "INFO:dapr_agents.llm.utils.request:Tools are available in the request.\n",
      "INFO:dapr_agents.llm.openai.chat:Invoking ChatCompletion API.\n"
     ]
    },
    {
     "name": "stdout",
     "output_type": "stream",
     "text": [
      "\u001b[38;2;147;191;183massistant:\u001b[0m\n",
      "\u001b[38;2;147;191;183m\u001b[0m\u001b[38;2;147;191;183m{'content': None, 'role': 'assistant', 'tool_calls': [{'id': 'call_EA0qfyPxmFx69NG5iuGi6EhE', 'type': 'function', 'function': {'name': 'GetWeather', 'arguments': '{\"location\":\"Virginia\"}'}}]}\u001b[0m\u001b[0m\n",
      "\u001b[0m\u001b[0m\n",
      "\u001b[0m--------------------------------------------------------------------------------\u001b[0m\n",
      "\u001b[0m\u001b[0m\u001b[0m\n",
      "\u001b[38;2;191;69;126mGetWeather(tool) (Id: call_EA0qfyPxmFx69NG5iuGi6EhE):\u001b[0m\n",
      "\u001b[38;2;191;69;126m\u001b[0m\u001b[38;2;191;69;126mVirginia: 76F.\u001b[0m\u001b[0m\n",
      "\u001b[0m\u001b[0m\n",
      "\u001b[0m--------------------------------------------------------------------------------\u001b[0m\n",
      "\u001b[0m\u001b[0m\u001b[0m\n"
     ]
    },
    {
     "name": "stderr",
     "output_type": "stream",
     "text": [
      "INFO:httpx:HTTP Request: POST https://api.openai.com/v1/chat/completions \"HTTP/1.1 200 OK\"\n",
      "INFO:dapr_agents.llm.openai.chat:Chat completion retrieved successfully.\n"
     ]
    },
    {
     "name": "stdout",
     "output_type": "stream",
     "text": [
      "\u001b[38;2;147;191;183massistant:\u001b[0m\n",
      "\u001b[38;2;147;191;183m\u001b[0m\u001b[38;2;147;191;183m{'content': 'The current temperature in Virginia is 76°F.', 'role': 'assistant'}\u001b[0m\u001b[0m\n",
      "\u001b[0m\u001b[0m\n",
      "\u001b[0m--------------------------------------------------------------------------------\u001b[0m\n",
      "\u001b[0m\u001b[0m\u001b[0m\n"
     ]
    }
   ],
   "source": [
    "from mcp.client.sse import sse_client\n",
    "from mcp import ClientSession\n",
    "\n",
    "from dapr_agents import Agent, AgentTool\n",
    "\n",
    "# Connect to the server using SSE\n",
    "async with sse_client(\"http://localhost:8000/sse\") as (read, write):\n",
    "    async with ClientSession(read, write) as session:\n",
    "        # Initialize the session\n",
    "        await session.initialize()\n",
    "        \n",
    "        # Get the agent tools from the MCP session\n",
    "        agent_tools = await AgentTool.from_mcp_session(session)\n",
    "        \n",
    "        # Create an agent with the tools\n",
    "        agent = Agent(\n",
    "            name=\"Rob\",\n",
    "            role=\"Weather Assistant\",\n",
    "            tools=agent_tools\n",
    "        )\n",
    "\n",
    "        # Run the agent with a sample query\n",
    "        await agent.run(\"What is the weather in Virginia?\")"
   ]
  },
  {
   "cell_type": "markdown",
   "metadata": {},
   "source": [
    "## Connect to SSE MCP Servers"
   ]
  },
  {
   "cell_type": "code",
   "execution_count": null,
   "metadata": {},
   "outputs": [],
   "source": [
    "# Initialize MCP SSE Server\n",
    "# uv run servers/weather_server.py --server_type sse"
   ]
  },
  {
   "cell_type": "code",
   "execution_count": 5,
   "metadata": {},
   "outputs": [],
   "source": [
    "# Define your MCP server configs\n",
    "mcp_servers = {\n",
    "    \"weather\": {\n",
    "        \"transport\": \"sse\",\n",
    "        \"url\": \"http://localhost:8000/sse\"\n",
    "    },\n",
    "}"
   ]
  },
  {
   "cell_type": "code",
   "execution_count": 6,
   "metadata": {},
   "outputs": [],
   "source": [
    "# Note: The server script (serverA.py) should be running for this to work.\n",
    "from dapr_agents.tool.mcp.client import MCPClient\n",
    "\n",
    "# Create an instance of the MCPClient to interact with the MCP servers\n",
    "#client = MCPClient(persistent_connections=True)\n",
    "client = MCPClient()"
   ]
  },
  {
   "cell_type": "code",
   "execution_count": 7,
   "metadata": {},
   "outputs": [
    {
     "name": "stderr",
     "output_type": "stream",
     "text": [
      "INFO:mcp.client.sse:Connecting to SSE endpoint: http://localhost:8000/sse\n",
      "INFO:httpx:HTTP Request: GET http://localhost:8000/sse \"HTTP/1.1 200 OK\"\n",
      "INFO:mcp.client.sse:Received endpoint URL: http://localhost:8000/messages/?session_id=45afbd0c23b74c3abe0c2533a581a210\n",
      "INFO:mcp.client.sse:Starting post writer with endpoint URL: http://localhost:8000/messages/?session_id=45afbd0c23b74c3abe0c2533a581a210\n",
      "INFO:httpx:HTTP Request: POST http://localhost:8000/messages/?session_id=45afbd0c23b74c3abe0c2533a581a210 \"HTTP/1.1 202 Accepted\"\n",
      "INFO:httpx:HTTP Request: POST http://localhost:8000/messages/?session_id=45afbd0c23b74c3abe0c2533a581a210 \"HTTP/1.1 202 Accepted\"\n",
      "INFO:httpx:HTTP Request: POST http://localhost:8000/messages/?session_id=45afbd0c23b74c3abe0c2533a581a210 \"HTTP/1.1 202 Accepted\"\n",
      "INFO:dapr_agents.tool.mcp.client:Loaded 2 tools from server 'weather'\n",
      "INFO:httpx:HTTP Request: POST http://localhost:8000/messages/?session_id=45afbd0c23b74c3abe0c2533a581a210 \"HTTP/1.1 202 Accepted\"\n",
      "INFO:dapr_agents.tool.mcp.client:Loaded 0 prompts from server 'weather': \n",
      "INFO:dapr_agents.tool.mcp.client:Successfully connected to MCP server 'weather' (ephemeral mode)\n"
     ]
    }
   ],
   "source": [
    "# Connect to the MCP servers and get tools and prompts\n",
    "await client.connect_from_config(mcp_servers)"
   ]
  },
  {
   "cell_type": "code",
   "execution_count": 8,
   "metadata": {},
   "outputs": [
    {
     "name": "stdout",
     "output_type": "stream",
     "text": [
      "🔧 Tools: ['WeatherGetWeather', 'WeatherJump']\n"
     ]
    }
   ],
   "source": [
    "# Get all tools available\n",
    "tools = client.get_all_tools()\n",
    "print(\"🔧 Tools:\", [t.name for t in tools])"
   ]
  },
  {
   "cell_type": "markdown",
   "metadata": {},
   "source": [
    "## Initialize Agent"
   ]
  },
  {
   "cell_type": "code",
   "execution_count": 9,
   "metadata": {},
   "outputs": [
    {
     "name": "stderr",
     "output_type": "stream",
     "text": [
      "INFO:dapr_agents.llm.openai.client.base:Initializing OpenAI client...\n",
      "INFO:dapr_agents.tool.executor:Tool registered: WeatherGetWeather\n",
      "INFO:dapr_agents.tool.executor:Tool registered: WeatherJump\n",
      "INFO:dapr_agents.tool.executor:Tool Executor initialized with 2 tool(s).\n",
      "INFO:dapr_agents.agents.base:Constructing system_prompt from agent attributes.\n",
      "INFO:dapr_agents.agents.base:Using system_prompt to create the prompt template.\n",
      "INFO:dapr_agents.agents.base:Pre-filled prompt template with attributes: ['name', 'role', 'goal']\n"
     ]
    }
   ],
   "source": [
    "from dapr_agents import Agent\n",
    "\n",
    "agent = Agent(\n",
    "    name=\"Rob\",\n",
    "    role= \"Weather Assistant\",\n",
    "    tools=tools\n",
    ")"
   ]
  },
  {
   "cell_type": "markdown",
   "metadata": {},
   "source": [
    "## Run Agent"
   ]
  },
  {
   "cell_type": "code",
   "execution_count": 10,
   "metadata": {},
   "outputs": [
    {
     "name": "stderr",
     "output_type": "stream",
     "text": [
      "INFO:dapr_agents.agents.agent.agent:Iteration 1/10 started.\n",
      "INFO:dapr_agents.llm.utils.request:Tools are available in the request.\n",
      "INFO:dapr_agents.llm.openai.chat:Invoking ChatCompletion API.\n"
     ]
    },
    {
     "name": "stdout",
     "output_type": "stream",
     "text": [
      "\u001b[38;2;242;182;128muser:\u001b[0m\n",
      "\u001b[38;2;242;182;128m\u001b[0m\u001b[38;2;242;182;128mWhat is the weather in New York?\u001b[0m\u001b[0m\n",
      "\u001b[0m\u001b[0m\n",
      "\u001b[0m--------------------------------------------------------------------------------\u001b[0m\n",
      "\u001b[0m\u001b[0m\u001b[0m\n"
     ]
    },
    {
     "name": "stderr",
     "output_type": "stream",
     "text": [
      "INFO:httpx:HTTP Request: POST https://api.openai.com/v1/chat/completions \"HTTP/1.1 200 OK\"\n",
      "INFO:dapr_agents.llm.openai.chat:Chat completion retrieved successfully.\n",
      "INFO:dapr_agents.agents.agent.agent:Executing WeatherGetWeather with arguments {'location': 'New York'}\n",
      "INFO:dapr_agents.tool.executor:Running tool (auto): WeatherGetWeather\n",
      "INFO:mcp.client.sse:Connecting to SSE endpoint: http://localhost:8000/sse\n",
      "INFO:httpx:HTTP Request: GET http://localhost:8000/sse \"HTTP/1.1 200 OK\"\n",
      "INFO:mcp.client.sse:Received endpoint URL: http://localhost:8000/messages/?session_id=ae3125738c4c4835a1365a706b5cc525\n",
      "INFO:mcp.client.sse:Starting post writer with endpoint URL: http://localhost:8000/messages/?session_id=ae3125738c4c4835a1365a706b5cc525\n",
      "INFO:httpx:HTTP Request: POST http://localhost:8000/messages/?session_id=ae3125738c4c4835a1365a706b5cc525 \"HTTP/1.1 202 Accepted\"\n",
      "INFO:httpx:HTTP Request: POST http://localhost:8000/messages/?session_id=ae3125738c4c4835a1365a706b5cc525 \"HTTP/1.1 202 Accepted\"\n",
      "INFO:httpx:HTTP Request: POST http://localhost:8000/messages/?session_id=ae3125738c4c4835a1365a706b5cc525 \"HTTP/1.1 202 Accepted\"\n",
      "INFO:dapr_agents.agents.agent.agent:Iteration 2/10 started.\n",
      "INFO:dapr_agents.llm.utils.request:Tools are available in the request.\n",
      "INFO:dapr_agents.llm.openai.chat:Invoking ChatCompletion API.\n"
     ]
    },
    {
     "name": "stdout",
     "output_type": "stream",
     "text": [
      "\u001b[38;2;147;191;183massistant:\u001b[0m\n",
      "\u001b[38;2;147;191;183m\u001b[0m\u001b[38;2;147;191;183m{'content': None, 'role': 'assistant', 'tool_calls': [{'id': 'call_hv7dcLtjtk9JEjgwrrguBP3C', 'type': 'function', 'function': {'name': 'WeatherGetWeather', 'arguments': '{\"location\":\"New York\"}'}}]}\u001b[0m\u001b[0m\n",
      "\u001b[0m\u001b[0m\n",
      "\u001b[0m--------------------------------------------------------------------------------\u001b[0m\n",
      "\u001b[0m\u001b[0m\u001b[0m\n",
      "\u001b[38;2;191;69;126mWeatherGetWeather(tool) (Id: call_hv7dcLtjtk9JEjgwrrguBP3C):\u001b[0m\n",
      "\u001b[38;2;191;69;126m\u001b[0m\u001b[38;2;191;69;126mNew York: 78F.\u001b[0m\u001b[0m\n",
      "\u001b[0m\u001b[0m\n",
      "\u001b[0m--------------------------------------------------------------------------------\u001b[0m\n",
      "\u001b[0m\u001b[0m\u001b[0m\n"
     ]
    },
    {
     "name": "stderr",
     "output_type": "stream",
     "text": [
      "INFO:httpx:HTTP Request: POST https://api.openai.com/v1/chat/completions \"HTTP/1.1 200 OK\"\n",
      "INFO:dapr_agents.llm.openai.chat:Chat completion retrieved successfully.\n"
     ]
    },
    {
     "name": "stdout",
     "output_type": "stream",
     "text": [
      "\u001b[38;2;147;191;183massistant:\u001b[0m\n",
      "\u001b[38;2;147;191;183m\u001b[0m\u001b[38;2;147;191;183m{'content': 'The current temperature in New York is 78°F.', 'role': 'assistant'}\u001b[0m\u001b[0m\n",
      "\u001b[0m\u001b[0m\n",
      "\u001b[0m--------------------------------------------------------------------------------\u001b[0m\n",
      "\u001b[0m\u001b[0m\u001b[0m\n"
     ]
    },
    {
     "data": {
      "text/plain": [
       "'The current temperature in New York is 78°F.'"
      ]
     },
     "execution_count": 10,
     "metadata": {},
     "output_type": "execute_result"
    }
   ],
   "source": [
    "await agent.run(\"What is the weather in New York?\")"
   ]
  },
  {
   "cell_type": "code",
   "execution_count": null,
   "metadata": {},
   "outputs": [],
   "source": []
  }
 ],
 "metadata": {
  "kernelspec": {
   "display_name": ".venv",
   "language": "python",
   "name": "python3"
  },
  "language_info": {
   "codemirror_mode": {
    "name": "ipython",
    "version": 3
   },
   "file_extension": ".py",
   "mimetype": "text/x-python",
   "name": "python",
   "nbconvert_exporter": "python",
   "pygments_lexer": "ipython3",
   "version": "3.13.3"
  }
 },
 "nbformat": 4,
 "nbformat_minor": 2
}
