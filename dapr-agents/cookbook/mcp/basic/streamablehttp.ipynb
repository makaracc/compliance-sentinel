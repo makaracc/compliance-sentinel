{
 "cells": [
  {
   "cell_type": "markdown",
   "metadata": {},
   "source": [
    "# Basic Weather Agent with MCP Support (StreamableHTTP Transport)\n",
    "\n",
    "* Collaborator: Roberto Rodriguez @Cyb3rWard0g"
   ]
  },
  {
   "cell_type": "markdown",
   "metadata": {},
   "source": [
    "## Install Required Libraries\n",
    "Before starting, ensure the required libraries are installed:"
   ]
  },
  {
   "cell_type": "code",
   "execution_count": null,
   "metadata": {},
   "outputs": [],
   "source": [
    "!pip install dapr-agents python-dotenv mcp starlette"
   ]
  },
  {
   "cell_type": "markdown",
   "metadata": {},
   "source": [
    "## Import Environment Variables"
   ]
  },
  {
   "cell_type": "code",
   "execution_count": 1,
   "metadata": {},
   "outputs": [
    {
     "data": {
      "text/plain": [
       "True"
      ]
     },
     "execution_count": 1,
     "metadata": {},
     "output_type": "execute_result"
    }
   ],
   "source": [
    "from dotenv import load_dotenv\n",
    "load_dotenv()  # take environment variables from .env."
   ]
  },
  {
   "cell_type": "markdown",
   "metadata": {},
   "source": [
    "## Enable Logging"
   ]
  },
  {
   "cell_type": "code",
   "execution_count": 2,
   "metadata": {},
   "outputs": [],
   "source": [
    "import logging\n",
    "\n",
    "logging.basicConfig(level=logging.INFO)"
   ]
  },
  {
   "cell_type": "markdown",
   "metadata": {},
   "source": [
    "## Connect to MCP Server and Get Tools"
   ]
  },
  {
   "cell_type": "code",
   "execution_count": 3,
   "metadata": {},
   "outputs": [
    {
     "name": "stderr",
     "output_type": "stream",
     "text": [
      "/Users/wardog/Documents/GitHub/dapr-agents/.venv/lib/python3.13/site-packages/tqdm/auto.py:21: TqdmWarning: IProgress not found. Please update jupyter and ipywidgets. See https://ipywidgets.readthedocs.io/en/stable/user_install.html\n",
      "  from .autonotebook import tqdm as notebook_tqdm\n",
      "INFO:mcp.client.streamable_http:Connecting to StreamableHTTP endpoint: http://localhost:8000/mcp/\n",
      "INFO:httpx:HTTP Request: POST http://localhost:8000/mcp/ \"HTTP/1.1 200 OK\"\n",
      "INFO:mcp.client.streamable_http:Received session ID: 79fca29383644485b532e7833aa62994\n",
      "INFO:httpx:HTTP Request: GET http://localhost:8000/mcp/ \"HTTP/1.1 200 OK\"\n",
      "INFO:httpx:HTTP Request: POST http://localhost:8000/mcp/ \"HTTP/1.1 202 Accepted\"\n",
      "INFO:httpx:HTTP Request: POST http://localhost:8000/mcp/ \"HTTP/1.1 200 OK\"\n",
      "INFO:dapr_agents.llm.openai.client.base:Initializing OpenAI client...\n",
      "INFO:dapr_agents.tool.executor:Tool registered: GetWeather\n",
      "INFO:dapr_agents.tool.executor:Tool registered: GetHumidity\n",
      "INFO:dapr_agents.tool.executor:Tool Executor initialized with 2 tool(s).\n",
      "INFO:dapr_agents.agents.base:Constructing system_prompt from agent attributes.\n",
      "INFO:dapr_agents.agents.base:Using system_prompt to create the prompt template.\n",
      "INFO:dapr_agents.agents.base:Pre-filled prompt template with attributes: ['name', 'role', 'goal']\n",
      "INFO:dapr_agents.agents.agent.agent:Iteration 1/10 started.\n",
      "INFO:dapr_agents.llm.utils.request:Tools are available in the request.\n",
      "INFO:dapr_agents.llm.openai.chat:Invoking ChatCompletion API.\n"
     ]
    },
    {
     "name": "stdout",
     "output_type": "stream",
     "text": [
      "\u001b[38;2;242;182;128muser:\u001b[0m\n",
      "\u001b[38;2;242;182;128m\u001b[0m\u001b[38;2;242;182;128mWhat is the weather in Virginia?\u001b[0m\u001b[0m\n",
      "\u001b[0m\u001b[0m\n",
      "\u001b[0m--------------------------------------------------------------------------------\u001b[0m\n",
      "\u001b[0m\u001b[0m\u001b[0m\n"
     ]
    },
    {
     "name": "stderr",
     "output_type": "stream",
     "text": [
      "INFO:httpx:HTTP Request: POST https://api.openai.com/v1/chat/completions \"HTTP/1.1 200 OK\"\n",
      "INFO:dapr_agents.llm.openai.chat:Chat completion retrieved successfully.\n",
      "INFO:dapr_agents.agents.agent.agent:Executing GetWeather with arguments {'location': 'Virginia'}\n",
      "INFO:dapr_agents.tool.executor:Running tool (auto): GetWeather\n",
      "INFO:httpx:HTTP Request: POST http://localhost:8000/mcp/ \"HTTP/1.1 200 OK\"\n",
      "INFO:dapr_agents.agents.agent.agent:Iteration 2/10 started.\n",
      "INFO:dapr_agents.llm.utils.request:Tools are available in the request.\n",
      "INFO:dapr_agents.llm.openai.chat:Invoking ChatCompletion API.\n"
     ]
    },
    {
     "name": "stdout",
     "output_type": "stream",
     "text": [
      "\u001b[38;2;147;191;183massistant:\u001b[0m\n",
      "\u001b[38;2;147;191;183m\u001b[0m\u001b[38;2;147;191;183m{'content': None, 'role': 'assistant', 'tool_calls': [{'id': 'call_snp9UYuPwlflEm7r0vHM6hIW', 'type': 'function', 'function': {'name': 'GetWeather', 'arguments': '{\"location\":\"Virginia\"}'}}]}\u001b[0m\u001b[0m\n",
      "\u001b[0m\u001b[0m\n",
      "\u001b[0m--------------------------------------------------------------------------------\u001b[0m\n",
      "\u001b[0m\u001b[0m\u001b[0m\n",
      "\u001b[38;2;191;69;126mGetWeather(tool) (Id: call_snp9UYuPwlflEm7r0vHM6hIW):\u001b[0m\n",
      "\u001b[38;2;191;69;126m\u001b[0m\u001b[38;2;191;69;126mVirginia: 69F.\u001b[0m\u001b[0m\n",
      "\u001b[0m\u001b[0m\n",
      "\u001b[0m--------------------------------------------------------------------------------\u001b[0m\n",
      "\u001b[0m\u001b[0m\u001b[0m\n"
     ]
    },
    {
     "name": "stderr",
     "output_type": "stream",
     "text": [
      "INFO:httpx:HTTP Request: POST https://api.openai.com/v1/chat/completions \"HTTP/1.1 200 OK\"\n",
      "INFO:dapr_agents.llm.openai.chat:Chat completion retrieved successfully.\n",
      "INFO:httpx:HTTP Request: DELETE http://localhost:8000/mcp/ \"HTTP/1.1 200 OK\"\n"
     ]
    },
    {
     "name": "stdout",
     "output_type": "stream",
     "text": [
      "\u001b[38;2;147;191;183massistant:\u001b[0m\n",
      "\u001b[38;2;147;191;183m\u001b[0m\u001b[38;2;147;191;183m{'content': 'The current temperature in Virginia is 69°F.', 'role': 'assistant'}\u001b[0m\u001b[0m\n",
      "\u001b[0m\u001b[0m\n",
      "\u001b[0m--------------------------------------------------------------------------------\u001b[0m\n",
      "\u001b[0m\u001b[0m\u001b[0m\n"
     ]
    }
   ],
   "source": [
    "from mcp.client.streamable_http import streamablehttp_client\n",
    "from mcp import ClientSession\n",
    "\n",
    "from dapr_agents import Agent, AgentTool\n",
    "\n",
    "# Connect to the server using SSE\n",
    "async with streamablehttp_client(\"http://localhost:8000/mcp/\") as (read, write, _):\n",
    "    async with ClientSession(read, write) as session:\n",
    "        # Initialize the session\n",
    "        await session.initialize()\n",
    "        \n",
    "        # Get the agent tools from the MCP session\n",
    "        agent_tools = await AgentTool.from_mcp_session(session)\n",
    "        \n",
    "        # Create an agent with the tools\n",
    "        agent = Agent(\n",
    "            name=\"Rob\",\n",
    "            role=\"Weather Assistant\",\n",
    "            tools=agent_tools\n",
    "        )\n",
    "\n",
    "        # Run the agent with a sample query\n",
    "        await agent.run(\"What is the weather in Virginia?\")"
   ]
  },
  {
   "cell_type": "markdown",
   "metadata": {},
   "source": [
    "## Connect to StreamableHTTP MCP Servers"
   ]
  },
  {
   "cell_type": "code",
   "execution_count": null,
   "metadata": {},
   "outputs": [],
   "source": [
    "# Initialize MCP Server\n",
    "# uv run servers/serverA.py --server_type streamable-http\n",
    "# uv run servers/serverA.py --server_type streamable-http --stateless"
   ]
  },
  {
   "cell_type": "code",
   "execution_count": 4,
   "metadata": {},
   "outputs": [],
   "source": [
    "# Define your MCP server configs\n",
    "mcp_servers = {\n",
    "    \"weather\": {\n",
    "        \"transport\": \"streamable_http\",\n",
    "        \"url\": \"http://localhost:8000/mcp/\"\n",
    "    },\n",
    "}"
   ]
  },
  {
   "cell_type": "code",
   "execution_count": 5,
   "metadata": {},
   "outputs": [],
   "source": [
    "# Note: The server script (serverA.py) should be running for this to work.\n",
    "from dapr_agents.tool.mcp.client import MCPClient\n",
    "\n",
    "# Create an instance of the MCPClient to interact with the MCP servers\n",
    "client = MCPClient()"
   ]
  },
  {
   "cell_type": "code",
   "execution_count": 6,
   "metadata": {},
   "outputs": [
    {
     "name": "stderr",
     "output_type": "stream",
     "text": [
      "INFO:mcp.client.streamable_http:Connecting to StreamableHTTP endpoint: http://localhost:8000/mcp/\n",
      "INFO:httpx:HTTP Request: POST http://localhost:8000/mcp/ \"HTTP/1.1 200 OK\"\n",
      "INFO:mcp.client.streamable_http:Received session ID: ce4f94a289954305a3b0da788d7171ed\n",
      "INFO:httpx:HTTP Request: GET http://localhost:8000/mcp/ \"HTTP/1.1 200 OK\"\n",
      "INFO:httpx:HTTP Request: POST http://localhost:8000/mcp/ \"HTTP/1.1 202 Accepted\"\n",
      "INFO:httpx:HTTP Request: POST http://localhost:8000/mcp/ \"HTTP/1.1 200 OK\"\n",
      "INFO:dapr_agents.tool.mcp.client:Loaded 2 tools from server 'weather'\n",
      "INFO:httpx:HTTP Request: POST http://localhost:8000/mcp/ \"HTTP/1.1 200 OK\"\n",
      "INFO:dapr_agents.tool.mcp.client:Loaded 0 prompts from server 'weather': \n",
      "INFO:httpx:HTTP Request: DELETE http://localhost:8000/mcp/ \"HTTP/1.1 200 OK\"\n",
      "INFO:dapr_agents.tool.mcp.client:Successfully connected to MCP server 'weather' (ephemeral mode)\n"
     ]
    }
   ],
   "source": [
    "# Connect to the MCP servers and get tools and prompts\n",
    "await client.connect_from_config(mcp_servers)"
   ]
  },
  {
   "cell_type": "code",
   "execution_count": 7,
   "metadata": {},
   "outputs": [
    {
     "name": "stdout",
     "output_type": "stream",
     "text": [
      "🔧 Tools: ['WeatherGetWeather', 'WeatherGetHumidity']\n"
     ]
    }
   ],
   "source": [
    "# Get all tools available\n",
    "tools = client.get_all_tools()\n",
    "print(\"🔧 Tools:\", [t.name for t in tools])"
   ]
  },
  {
   "cell_type": "markdown",
   "metadata": {},
   "source": [
    "## Initialize Agent"
   ]
  },
  {
   "cell_type": "code",
   "execution_count": 8,
   "metadata": {},
   "outputs": [
    {
     "name": "stderr",
     "output_type": "stream",
     "text": [
      "INFO:dapr_agents.llm.openai.client.base:Initializing OpenAI client...\n",
      "INFO:dapr_agents.tool.executor:Tool registered: WeatherGetWeather\n",
      "INFO:dapr_agents.tool.executor:Tool registered: WeatherGetHumidity\n",
      "INFO:dapr_agents.tool.executor:Tool Executor initialized with 2 tool(s).\n",
      "INFO:dapr_agents.agents.base:Constructing system_prompt from agent attributes.\n",
      "INFO:dapr_agents.agents.base:Using system_prompt to create the prompt template.\n",
      "INFO:dapr_agents.agents.base:Pre-filled prompt template with attributes: ['name', 'role', 'goal']\n"
     ]
    }
   ],
   "source": [
    "from dapr_agents import Agent\n",
    "\n",
    "agent = Agent(\n",
    "    name=\"Rob\",\n",
    "    role= \"Weather Assistant\",\n",
    "    tools=tools\n",
    ")"
   ]
  },
  {
   "cell_type": "markdown",
   "metadata": {},
   "source": [
    "## Run Agent"
   ]
  },
  {
   "cell_type": "code",
   "execution_count": 9,
   "metadata": {},
   "outputs": [
    {
     "name": "stderr",
     "output_type": "stream",
     "text": [
      "INFO:dapr_agents.agents.agent.agent:Iteration 1/10 started.\n",
      "INFO:dapr_agents.llm.utils.request:Tools are available in the request.\n",
      "INFO:dapr_agents.llm.openai.chat:Invoking ChatCompletion API.\n"
     ]
    },
    {
     "name": "stdout",
     "output_type": "stream",
     "text": [
      "\u001b[38;2;242;182;128muser:\u001b[0m\n",
      "\u001b[38;2;242;182;128m\u001b[0m\u001b[38;2;242;182;128mWhat is the weather in New York?\u001b[0m\u001b[0m\n",
      "\u001b[0m\u001b[0m\n",
      "\u001b[0m--------------------------------------------------------------------------------\u001b[0m\n",
      "\u001b[0m\u001b[0m\u001b[0m\n"
     ]
    },
    {
     "name": "stderr",
     "output_type": "stream",
     "text": [
      "INFO:httpx:HTTP Request: POST https://api.openai.com/v1/chat/completions \"HTTP/1.1 200 OK\"\n",
      "INFO:dapr_agents.llm.openai.chat:Chat completion retrieved successfully.\n",
      "INFO:dapr_agents.agents.agent.agent:Executing WeatherGetWeather with arguments {'location': 'New York'}\n",
      "INFO:dapr_agents.tool.executor:Running tool (auto): WeatherGetWeather\n",
      "INFO:mcp.client.streamable_http:Connecting to StreamableHTTP endpoint: http://localhost:8000/mcp/\n",
      "INFO:httpx:HTTP Request: POST http://localhost:8000/mcp/ \"HTTP/1.1 200 OK\"\n",
      "INFO:mcp.client.streamable_http:Received session ID: d5a91177c5fb4102b175b4b5dbb9e1ba\n",
      "INFO:httpx:HTTP Request: POST http://localhost:8000/mcp/ \"HTTP/1.1 202 Accepted\"\n",
      "INFO:httpx:HTTP Request: GET http://localhost:8000/mcp/ \"HTTP/1.1 200 OK\"\n",
      "INFO:httpx:HTTP Request: POST http://localhost:8000/mcp/ \"HTTP/1.1 200 OK\"\n",
      "INFO:httpx:HTTP Request: DELETE http://localhost:8000/mcp/ \"HTTP/1.1 200 OK\"\n",
      "INFO:dapr_agents.agents.agent.agent:Iteration 2/10 started.\n",
      "INFO:dapr_agents.llm.utils.request:Tools are available in the request.\n",
      "INFO:dapr_agents.llm.openai.chat:Invoking ChatCompletion API.\n"
     ]
    },
    {
     "name": "stdout",
     "output_type": "stream",
     "text": [
      "\u001b[38;2;147;191;183massistant:\u001b[0m\n",
      "\u001b[38;2;147;191;183m\u001b[0m\u001b[38;2;147;191;183m{'content': None, 'role': 'assistant', 'tool_calls': [{'id': 'call_uTrpRZnEP4JUt0yMJhnPQoQ0', 'type': 'function', 'function': {'name': 'WeatherGetWeather', 'arguments': '{\"location\":\"New York\"}'}}]}\u001b[0m\u001b[0m\n",
      "\u001b[0m\u001b[0m\n",
      "\u001b[0m--------------------------------------------------------------------------------\u001b[0m\n",
      "\u001b[0m\u001b[0m\u001b[0m\n",
      "\u001b[38;2;191;69;126mWeatherGetWeather(tool) (Id: call_uTrpRZnEP4JUt0yMJhnPQoQ0):\u001b[0m\n",
      "\u001b[38;2;191;69;126m\u001b[0m\u001b[38;2;191;69;126mNew York: 80F.\u001b[0m\u001b[0m\n",
      "\u001b[0m\u001b[0m\n",
      "\u001b[0m--------------------------------------------------------------------------------\u001b[0m\n",
      "\u001b[0m\u001b[0m\u001b[0m\n"
     ]
    },
    {
     "name": "stderr",
     "output_type": "stream",
     "text": [
      "INFO:httpx:HTTP Request: POST https://api.openai.com/v1/chat/completions \"HTTP/1.1 200 OK\"\n",
      "INFO:dapr_agents.llm.openai.chat:Chat completion retrieved successfully.\n"
     ]
    },
    {
     "name": "stdout",
     "output_type": "stream",
     "text": [
      "\u001b[38;2;147;191;183massistant:\u001b[0m\n",
      "\u001b[38;2;147;191;183m\u001b[0m\u001b[38;2;147;191;183m{'content': 'The current weather in New York is 80°F.', 'role': 'assistant'}\u001b[0m\u001b[0m\n",
      "\u001b[0m\u001b[0m\n",
      "\u001b[0m--------------------------------------------------------------------------------\u001b[0m\n",
      "\u001b[0m\u001b[0m\u001b[0m\n"
     ]
    },
    {
     "data": {
      "text/plain": [
       "'The current weather in New York is 80°F.'"
      ]
     },
     "execution_count": 9,
     "metadata": {},
     "output_type": "execute_result"
    }
   ],
   "source": [
    "await agent.run(\"What is the weather in New York?\")"
   ]
  },
  {
   "cell_type": "code",
   "execution_count": null,
   "metadata": {},
   "outputs": [],
   "source": []
  }
 ],
 "metadata": {
  "kernelspec": {
   "display_name": ".venv",
   "language": "python",
   "name": "python3"
  },
  "language_info": {
   "codemirror_mode": {
    "name": "ipython",
    "version": 3
   },
   "file_extension": ".py",
   "mimetype": "text/x-python",
   "name": "python",
   "nbconvert_exporter": "python",
   "pygments_lexer": "ipython3",
   "version": "3.13.3"
  }
 },
 "nbformat": 4,
 "nbformat_minor": 2
}
