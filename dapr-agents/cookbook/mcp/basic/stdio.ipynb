{
 "cells": [
  {
   "cell_type": "markdown",
   "metadata": {},
   "source": [
    "# Basic Weather Agent with MCP Support (Stdio Transport)\n",
    "\n",
    "* Collaborator: Roberto Rodriguez @Cyb3rWard0g"
   ]
  },
  {
   "cell_type": "markdown",
   "metadata": {},
   "source": [
    "## Install Required Libraries\n",
    "Before starting, ensure the required libraries are installed:"
   ]
  },
  {
   "cell_type": "code",
   "execution_count": null,
   "metadata": {},
   "outputs": [],
   "source": [
    "!pip install dapr-agents python-dotenv starlette"
   ]
  },
  {
   "cell_type": "markdown",
   "metadata": {},
   "source": [
    "## Import Environment Variables"
   ]
  },
  {
   "cell_type": "code",
   "execution_count": 1,
   "metadata": {},
   "outputs": [
    {
     "data": {
      "text/plain": [
       "True"
      ]
     },
     "execution_count": 1,
     "metadata": {},
     "output_type": "execute_result"
    }
   ],
   "source": [
    "from dotenv import load_dotenv\n",
    "load_dotenv()  # take environment variables from .env."
   ]
  },
  {
   "cell_type": "markdown",
   "metadata": {},
   "source": [
    "## Enable Logging"
   ]
  },
  {
   "cell_type": "code",
   "execution_count": 2,
   "metadata": {},
   "outputs": [],
   "source": [
    "import logging\n",
    "\n",
    "logging.basicConfig(level=logging.INFO)"
   ]
  },
  {
   "cell_type": "markdown",
   "metadata": {},
   "source": [
    "## Connect to One MCP Server"
   ]
  },
  {
   "cell_type": "code",
   "execution_count": null,
   "metadata": {},
   "outputs": [
    {
     "name": "stderr",
     "output_type": "stream",
     "text": [
      "/Users/wardog/Documents/GitHub/dapr-agents/.venv/lib/python3.13/site-packages/tqdm/auto.py:21: TqdmWarning: IProgress not found. Please update jupyter and ipywidgets. See https://ipywidgets.readthedocs.io/en/stable/user_install.html\n",
      "  from .autonotebook import tqdm as notebook_tqdm\n",
      "INFO:dapr_agents.llm.openai.client.base:Initializing OpenAI client...\n",
      "INFO:dapr_agents.tool.executor:Tool registered: GetWeather\n",
      "INFO:dapr_agents.tool.executor:Tool registered: GetHumidity\n",
      "INFO:dapr_agents.tool.executor:Tool Executor initialized with 2 tool(s).\n",
      "INFO:dapr_agents.agents.base:Constructing system_prompt from agent attributes.\n",
      "INFO:dapr_agents.agents.base:Using system_prompt to create the prompt template.\n",
      "INFO:dapr_agents.agents.base:Pre-filled prompt template with attributes: ['name', 'role', 'goal']\n",
      "INFO:dapr_agents.agents.agent.agent:Iteration 1/10 started.\n",
      "INFO:dapr_agents.llm.utils.request:Tools are available in the request.\n",
      "INFO:dapr_agents.llm.openai.chat:Invoking ChatCompletion API.\n"
     ]
    },
    {
     "name": "stdout",
     "output_type": "stream",
     "text": [
      "\u001b[38;2;242;182;128muser:\u001b[0m\n",
      "\u001b[38;2;242;182;128m\u001b[0m\u001b[38;2;242;182;128mWhat is the weather in Virginia?\u001b[0m\u001b[0m\n",
      "\u001b[0m\u001b[0m\n",
      "\u001b[0m--------------------------------------------------------------------------------\u001b[0m\n",
      "\u001b[0m\u001b[0m\u001b[0m\n"
     ]
    },
    {
     "name": "stderr",
     "output_type": "stream",
     "text": [
      "INFO:httpx:HTTP Request: POST https://api.openai.com/v1/chat/completions \"HTTP/1.1 200 OK\"\n",
      "INFO:dapr_agents.llm.openai.chat:Chat completion retrieved successfully.\n",
      "INFO:dapr_agents.agents.agent.agent:Executing GetWeather with arguments {'location': 'Virginia'}\n",
      "INFO:dapr_agents.tool.executor:Running tool (auto): GetWeather\n",
      "INFO:dapr_agents.agents.agent.agent:Iteration 2/10 started.\n",
      "INFO:dapr_agents.llm.utils.request:Tools are available in the request.\n",
      "INFO:dapr_agents.llm.openai.chat:Invoking ChatCompletion API.\n"
     ]
    },
    {
     "name": "stdout",
     "output_type": "stream",
     "text": [
      "\u001b[38;2;147;191;183massistant:\u001b[0m\n",
      "\u001b[38;2;147;191;183m\u001b[0m\u001b[38;2;147;191;183m{'content': None, 'role': 'assistant', 'tool_calls': [{'id': 'call_hAs5sH0M102p8cevy8Futc9c', 'type': 'function', 'function': {'name': 'GetWeather', 'arguments': '{\"location\":\"Virginia\"}'}}]}\u001b[0m\u001b[0m\n",
      "\u001b[0m\u001b[0m\n",
      "\u001b[0m--------------------------------------------------------------------------------\u001b[0m\n",
      "\u001b[0m\u001b[0m\u001b[0m\n",
      "\u001b[38;2;191;69;126mGetWeather(tool) (Id: call_hAs5sH0M102p8cevy8Futc9c):\u001b[0m\n",
      "\u001b[38;2;191;69;126m\u001b[0m\u001b[38;2;191;69;126mVirginia: 62F.\u001b[0m\u001b[0m\n",
      "\u001b[0m\u001b[0m\n",
      "\u001b[0m--------------------------------------------------------------------------------\u001b[0m\n",
      "\u001b[0m\u001b[0m\u001b[0m\n"
     ]
    },
    {
     "name": "stderr",
     "output_type": "stream",
     "text": [
      "INFO:httpx:HTTP Request: POST https://api.openai.com/v1/chat/completions \"HTTP/1.1 200 OK\"\n",
      "INFO:dapr_agents.llm.openai.chat:Chat completion retrieved successfully.\n"
     ]
    },
    {
     "name": "stdout",
     "output_type": "stream",
     "text": [
      "\u001b[38;2;147;191;183massistant:\u001b[0m\n",
      "\u001b[38;2;147;191;183m\u001b[0m\u001b[38;2;147;191;183m{'content': 'The current weather in Virginia is 62°F.', 'role': 'assistant'}\u001b[0m\u001b[0m\n",
      "\u001b[0m\u001b[0m\n",
      "\u001b[0m--------------------------------------------------------------------------------\u001b[0m\n",
      "\u001b[0m\u001b[0m\u001b[0m\n"
     ]
    }
   ],
   "source": [
    "from mcp import ClientSession, StdioServerParameters\n",
    "from mcp.client.stdio import stdio_client\n",
    "\n",
    "from dapr_agents import Agent, AgentTool\n",
    "\n",
    "# Define the server parameters for the MCP server\n",
    "server_params = StdioServerParameters(\n",
    "    command=\"python\",\n",
    "    args=[\"servers/weather_server.py\", \"--server_type\", \"stdio\"],\n",
    ")\n",
    "\n",
    "# Connect to the server using stdio\n",
    "async with stdio_client(server_params) as (read, write):\n",
    "    async with ClientSession(read, write) as session:\n",
    "        # Initialize the session\n",
    "        await session.initialize()\n",
    "        \n",
    "        # Get the agent tools from the MCP session\n",
    "        agent_tools = await AgentTool.from_mcp_session(session)\n",
    "        \n",
    "        # Create an agent with the tools\n",
    "        agent = Agent(\n",
    "            name=\"Rob\",\n",
    "            role=\"Weather Assistant\",\n",
    "            tools=agent_tools\n",
    "        )\n",
    "\n",
    "        # Run the agent with a sample query\n",
    "        await agent.run(\"What is the weather in Virginia?\")"
   ]
  },
  {
   "cell_type": "markdown",
   "metadata": {},
   "source": [
    "## Connect to Multiple MCP Servers"
   ]
  },
  {
   "cell_type": "code",
   "execution_count": null,
   "metadata": {},
   "outputs": [],
   "source": [
    "# Initialize MCP SSE Server\n",
    "# uv run servers/math_server.py --server_type sse"
   ]
  },
  {
   "cell_type": "code",
   "execution_count": null,
   "metadata": {},
   "outputs": [],
   "source": [
    "# Define your MCP server configs\n",
    "mcp_servers = {\n",
    "    \"weather\": {\n",
    "        \"transport\": \"stdio\",\n",
    "        \"command\": \"python\",\n",
    "        \"args\": [\"servers/weather_server.py\", \"--server_type\", \"stdio\"]\n",
    "    },\n",
    "    \"math\": {\n",
    "        \"transport\": \"sse\",\n",
    "        \"url\": \"http://localhost:8000/sse\"\n",
    "    }\n",
    "}"
   ]
  },
  {
   "cell_type": "code",
   "execution_count": 8,
   "metadata": {},
   "outputs": [],
   "source": [
    "# Note: The server script (serverA.py) should be running for this to work.\n",
    "from dapr_agents.tool.mcp.client import MCPClient\n",
    "\n",
    "# Create an instance of the MCPClient to interact with the MCP servers\n",
    "#client = MCPClient(persistent_connections=True)\n",
    "client = MCPClient()"
   ]
  },
  {
   "cell_type": "code",
   "execution_count": 9,
   "metadata": {},
   "outputs": [
    {
     "name": "stderr",
     "output_type": "stream",
     "text": [
      "INFO:dapr_agents.tool.mcp.client:Loaded 2 tools from server 'weather'\n",
      "INFO:dapr_agents.tool.mcp.client:Loaded 0 prompts from server 'weather': \n",
      "INFO:dapr_agents.tool.mcp.client:Successfully connected to MCP server 'weather' (ephemeral mode)\n",
      "INFO:mcp.client.sse:Connecting to SSE endpoint: http://localhost:8000/sse\n",
      "INFO:httpx:HTTP Request: GET http://localhost:8000/sse \"HTTP/1.1 200 OK\"\n",
      "INFO:mcp.client.sse:Received endpoint URL: http://localhost:8000/messages/?session_id=712265480ddd4b3b9d05ac68f2c04f81\n",
      "INFO:mcp.client.sse:Starting post writer with endpoint URL: http://localhost:8000/messages/?session_id=712265480ddd4b3b9d05ac68f2c04f81\n",
      "INFO:httpx:HTTP Request: POST http://localhost:8000/messages/?session_id=712265480ddd4b3b9d05ac68f2c04f81 \"HTTP/1.1 202 Accepted\"\n",
      "INFO:httpx:HTTP Request: POST http://localhost:8000/messages/?session_id=712265480ddd4b3b9d05ac68f2c04f81 \"HTTP/1.1 202 Accepted\"\n",
      "INFO:httpx:HTTP Request: POST http://localhost:8000/messages/?session_id=712265480ddd4b3b9d05ac68f2c04f81 \"HTTP/1.1 202 Accepted\"\n",
      "INFO:dapr_agents.tool.mcp.client:Loaded 2 tools from server 'math'\n",
      "INFO:httpx:HTTP Request: POST http://localhost:8000/messages/?session_id=712265480ddd4b3b9d05ac68f2c04f81 \"HTTP/1.1 202 Accepted\"\n",
      "INFO:dapr_agents.tool.mcp.client:Loaded 0 prompts from server 'math': \n",
      "INFO:dapr_agents.tool.mcp.client:Successfully connected to MCP server 'math' (ephemeral mode)\n"
     ]
    }
   ],
   "source": [
    "# Connect to the MCP servers and get tools and prompts\n",
    "await client.connect_from_config(mcp_servers)"
   ]
  },
  {
   "cell_type": "code",
   "execution_count": 10,
   "metadata": {},
   "outputs": [
    {
     "name": "stdout",
     "output_type": "stream",
     "text": [
      "🔧 Tools: ['WeatherGetWeather', 'WeatherGetHumidity', 'MathAdd', 'MathMultiply']\n"
     ]
    }
   ],
   "source": [
    "# Get all tools available\n",
    "tools = client.get_all_tools()\n",
    "print(\"🔧 Tools:\", [t.name for t in tools])"
   ]
  },
  {
   "cell_type": "markdown",
   "metadata": {},
   "source": [
    "## Initialize Agent"
   ]
  },
  {
   "cell_type": "code",
   "execution_count": 11,
   "metadata": {},
   "outputs": [
    {
     "name": "stderr",
     "output_type": "stream",
     "text": [
      "INFO:dapr_agents.llm.openai.client.base:Initializing OpenAI client...\n",
      "INFO:dapr_agents.tool.executor:Tool registered: WeatherGetWeather\n",
      "INFO:dapr_agents.tool.executor:Tool registered: WeatherGetHumidity\n",
      "INFO:dapr_agents.tool.executor:Tool registered: MathAdd\n",
      "INFO:dapr_agents.tool.executor:Tool registered: MathMultiply\n",
      "INFO:dapr_agents.tool.executor:Tool Executor initialized with 4 tool(s).\n",
      "INFO:dapr_agents.agents.base:Constructing system_prompt from agent attributes.\n",
      "INFO:dapr_agents.agents.base:Using system_prompt to create the prompt template.\n",
      "INFO:dapr_agents.agents.base:Pre-filled prompt template with attributes: ['name', 'role', 'goal']\n"
     ]
    }
   ],
   "source": [
    "from dapr_agents import Agent\n",
    "\n",
    "agent = Agent(\n",
    "    name=\"Rob\",\n",
    "    role= \"Weather Assistant\",\n",
    "    tools=tools\n",
    ")"
   ]
  },
  {
   "cell_type": "markdown",
   "metadata": {},
   "source": [
    "## Run Agent"
   ]
  },
  {
   "cell_type": "code",
   "execution_count": 12,
   "metadata": {},
   "outputs": [
    {
     "name": "stderr",
     "output_type": "stream",
     "text": [
      "INFO:dapr_agents.agents.agent.agent:Iteration 1/10 started.\n",
      "INFO:dapr_agents.llm.utils.request:Tools are available in the request.\n",
      "INFO:dapr_agents.llm.openai.chat:Invoking ChatCompletion API.\n"
     ]
    },
    {
     "name": "stdout",
     "output_type": "stream",
     "text": [
      "\u001b[38;2;242;182;128muser:\u001b[0m\n",
      "\u001b[38;2;242;182;128m\u001b[0m\u001b[38;2;242;182;128mWhat is 2 plus 2?\u001b[0m\u001b[0m\n",
      "\u001b[0m\u001b[0m\n",
      "\u001b[0m--------------------------------------------------------------------------------\u001b[0m\n",
      "\u001b[0m\u001b[0m\u001b[0m\n"
     ]
    },
    {
     "name": "stderr",
     "output_type": "stream",
     "text": [
      "INFO:httpx:HTTP Request: POST https://api.openai.com/v1/chat/completions \"HTTP/1.1 200 OK\"\n",
      "INFO:dapr_agents.llm.openai.chat:Chat completion retrieved successfully.\n",
      "INFO:dapr_agents.agents.agent.agent:Executing MathAdd with arguments {'a': 2, 'b': 2}\n",
      "INFO:dapr_agents.tool.executor:Running tool (auto): MathAdd\n",
      "INFO:mcp.client.sse:Connecting to SSE endpoint: http://localhost:8000/sse\n",
      "INFO:httpx:HTTP Request: GET http://localhost:8000/sse \"HTTP/1.1 200 OK\"\n",
      "INFO:mcp.client.sse:Received endpoint URL: http://localhost:8000/messages/?session_id=6eef0e0574be4dfd9feabc16d32ec48f\n",
      "INFO:mcp.client.sse:Starting post writer with endpoint URL: http://localhost:8000/messages/?session_id=6eef0e0574be4dfd9feabc16d32ec48f\n",
      "INFO:httpx:HTTP Request: POST http://localhost:8000/messages/?session_id=6eef0e0574be4dfd9feabc16d32ec48f \"HTTP/1.1 202 Accepted\"\n",
      "INFO:httpx:HTTP Request: POST http://localhost:8000/messages/?session_id=6eef0e0574be4dfd9feabc16d32ec48f \"HTTP/1.1 202 Accepted\"\n",
      "INFO:httpx:HTTP Request: POST http://localhost:8000/messages/?session_id=6eef0e0574be4dfd9feabc16d32ec48f \"HTTP/1.1 202 Accepted\"\n",
      "INFO:dapr_agents.agents.agent.agent:Iteration 2/10 started.\n",
      "INFO:dapr_agents.llm.utils.request:Tools are available in the request.\n",
      "INFO:dapr_agents.llm.openai.chat:Invoking ChatCompletion API.\n"
     ]
    },
    {
     "name": "stdout",
     "output_type": "stream",
     "text": [
      "\u001b[38;2;147;191;183massistant:\u001b[0m\n",
      "\u001b[38;2;147;191;183m\u001b[0m\u001b[38;2;147;191;183m{'content': None, 'role': 'assistant', 'tool_calls': [{'id': 'call_MONcDw2a2zZZIGr8OJowp2Ec', 'type': 'function', 'function': {'name': 'MathAdd', 'arguments': '{\"a\":2,\"b\":2}'}}]}\u001b[0m\u001b[0m\n",
      "\u001b[0m\u001b[0m\n",
      "\u001b[0m--------------------------------------------------------------------------------\u001b[0m\n",
      "\u001b[0m\u001b[0m\u001b[0m\n",
      "\u001b[38;2;191;69;126mMathAdd(tool) (Id: call_MONcDw2a2zZZIGr8OJowp2Ec):\u001b[0m\n",
      "\u001b[38;2;191;69;126m\u001b[0m\u001b[38;2;191;69;126m4\u001b[0m\u001b[0m\n",
      "\u001b[0m\u001b[0m\n",
      "\u001b[0m--------------------------------------------------------------------------------\u001b[0m\n",
      "\u001b[0m\u001b[0m\u001b[0m\n"
     ]
    },
    {
     "name": "stderr",
     "output_type": "stream",
     "text": [
      "INFO:httpx:HTTP Request: POST https://api.openai.com/v1/chat/completions \"HTTP/1.1 200 OK\"\n",
      "INFO:dapr_agents.llm.openai.chat:Chat completion retrieved successfully.\n"
     ]
    },
    {
     "name": "stdout",
     "output_type": "stream",
     "text": [
      "\u001b[38;2;147;191;183massistant:\u001b[0m\n",
      "\u001b[38;2;147;191;183m\u001b[0m\u001b[38;2;147;191;183m{'content': '2 plus 2 equals 4.', 'role': 'assistant'}\u001b[0m\u001b[0m\n",
      "\u001b[0m\u001b[0m\n",
      "\u001b[0m--------------------------------------------------------------------------------\u001b[0m\n",
      "\u001b[0m\u001b[0m\u001b[0m\n"
     ]
    },
    {
     "data": {
      "text/plain": [
       "'2 plus 2 equals 4.'"
      ]
     },
     "execution_count": 12,
     "metadata": {},
     "output_type": "execute_result"
    }
   ],
   "source": [
    "#await agent.run(\"What is the weather in New York?\")\n",
    "\n",
    "await agent.run(\"What is 2 plus 2?\")"
   ]
  },
  {
   "cell_type": "code",
   "execution_count": 13,
   "metadata": {},
   "outputs": [
    {
     "name": "stderr",
     "output_type": "stream",
     "text": [
      "INFO:dapr_agents.agents.agent.agent:Iteration 1/10 started.\n",
      "INFO:dapr_agents.llm.utils.request:Tools are available in the request.\n",
      "INFO:dapr_agents.llm.openai.chat:Invoking ChatCompletion API.\n"
     ]
    },
    {
     "name": "stdout",
     "output_type": "stream",
     "text": [
      "\u001b[38;2;242;182;128muser:\u001b[0m\n",
      "\u001b[38;2;242;182;128m\u001b[0m\u001b[38;2;242;182;128mWhat is the weather in NY?\u001b[0m\u001b[0m\n",
      "\u001b[0m\u001b[0m\n",
      "\u001b[0m--------------------------------------------------------------------------------\u001b[0m\n",
      "\u001b[0m\u001b[0m\u001b[0m\n"
     ]
    },
    {
     "name": "stderr",
     "output_type": "stream",
     "text": [
      "INFO:httpx:HTTP Request: POST https://api.openai.com/v1/chat/completions \"HTTP/1.1 200 OK\"\n",
      "INFO:dapr_agents.llm.openai.chat:Chat completion retrieved successfully.\n",
      "INFO:dapr_agents.agents.agent.agent:Executing WeatherGetWeather with arguments {'location': 'New York'}\n",
      "INFO:dapr_agents.tool.executor:Running tool (auto): WeatherGetWeather\n"
     ]
    },
    {
     "name": "stdout",
     "output_type": "stream",
     "text": [
      "\u001b[38;2;147;191;183massistant:\u001b[0m\n",
      "\u001b[38;2;147;191;183m\u001b[0m\u001b[38;2;147;191;183m{'content': None, 'role': 'assistant', 'tool_calls': [{'id': 'call_liUykrnpgqfLzTZh3Ny5mOr4', 'type': 'function', 'function': {'name': 'WeatherGetWeather', 'arguments': '{\"location\":\"New York\"}'}}]}\u001b[0m\u001b[0m\n",
      "\u001b[0m\u001b[0m\n",
      "\u001b[0m--------------------------------------------------------------------------------\u001b[0m\n",
      "\u001b[0m\u001b[0m\u001b[0m\n"
     ]
    },
    {
     "name": "stderr",
     "output_type": "stream",
     "text": [
      "INFO:dapr_agents.agents.agent.agent:Iteration 2/10 started.\n",
      "INFO:dapr_agents.llm.utils.request:Tools are available in the request.\n",
      "INFO:dapr_agents.llm.openai.chat:Invoking ChatCompletion API.\n"
     ]
    },
    {
     "name": "stdout",
     "output_type": "stream",
     "text": [
      "\u001b[38;2;191;69;126mWeatherGetWeather(tool) (Id: call_liUykrnpgqfLzTZh3Ny5mOr4):\u001b[0m\n",
      "\u001b[38;2;191;69;126m\u001b[0m\u001b[38;2;191;69;126mNew York: 76F.\u001b[0m\u001b[0m\n",
      "\u001b[0m\u001b[0m\n",
      "\u001b[0m--------------------------------------------------------------------------------\u001b[0m\n",
      "\u001b[0m\u001b[0m\u001b[0m\n"
     ]
    },
    {
     "name": "stderr",
     "output_type": "stream",
     "text": [
      "INFO:httpx:HTTP Request: POST https://api.openai.com/v1/chat/completions \"HTTP/1.1 200 OK\"\n",
      "INFO:dapr_agents.llm.openai.chat:Chat completion retrieved successfully.\n"
     ]
    },
    {
     "name": "stdout",
     "output_type": "stream",
     "text": [
      "\u001b[38;2;147;191;183massistant:\u001b[0m\n",
      "\u001b[38;2;147;191;183m\u001b[0m\u001b[38;2;147;191;183m{'content': 'The current weather in New York is 76°F.', 'role': 'assistant'}\u001b[0m\u001b[0m\n",
      "\u001b[0m\u001b[0m\n",
      "\u001b[0m--------------------------------------------------------------------------------\u001b[0m\n",
      "\u001b[0m\u001b[0m\u001b[0m\n"
     ]
    },
    {
     "data": {
      "text/plain": [
       "'The current weather in New York is 76°F.'"
      ]
     },
     "execution_count": 13,
     "metadata": {},
     "output_type": "execute_result"
    }
   ],
   "source": [
    "await agent.run(\"What is the weather in NY?\")"
   ]
  },
  {
   "cell_type": "code",
   "execution_count": 14,
   "metadata": {},
   "outputs": [
    {
     "name": "stderr",
     "output_type": "stream",
     "text": [
      "INFO:dapr_agents.agents.agent.agent:Iteration 1/10 started.\n",
      "INFO:dapr_agents.llm.utils.request:Tools are available in the request.\n",
      "INFO:dapr_agents.llm.openai.chat:Invoking ChatCompletion API.\n"
     ]
    },
    {
     "name": "stdout",
     "output_type": "stream",
     "text": [
      "\u001b[38;2;242;182;128muser:\u001b[0m\n",
      "\u001b[38;2;242;182;128m\u001b[0m\u001b[38;2;242;182;128mWhat is 2 times 2?\u001b[0m\u001b[0m\n",
      "\u001b[0m\u001b[0m\n",
      "\u001b[0m--------------------------------------------------------------------------------\u001b[0m\n",
      "\u001b[0m\u001b[0m\u001b[0m\n"
     ]
    },
    {
     "name": "stderr",
     "output_type": "stream",
     "text": [
      "INFO:httpx:HTTP Request: POST https://api.openai.com/v1/chat/completions \"HTTP/1.1 200 OK\"\n",
      "INFO:dapr_agents.llm.openai.chat:Chat completion retrieved successfully.\n",
      "INFO:dapr_agents.agents.agent.agent:Executing MathMultiply with arguments {'a': 2, 'b': 2}\n",
      "INFO:dapr_agents.tool.executor:Running tool (auto): MathMultiply\n",
      "INFO:mcp.client.sse:Connecting to SSE endpoint: http://localhost:8000/sse\n",
      "INFO:httpx:HTTP Request: GET http://localhost:8000/sse \"HTTP/1.1 200 OK\"\n",
      "INFO:mcp.client.sse:Received endpoint URL: http://localhost:8000/messages/?session_id=69b6a4e42efb42b6a8e57236054f8dc2\n",
      "INFO:mcp.client.sse:Starting post writer with endpoint URL: http://localhost:8000/messages/?session_id=69b6a4e42efb42b6a8e57236054f8dc2\n",
      "INFO:httpx:HTTP Request: POST http://localhost:8000/messages/?session_id=69b6a4e42efb42b6a8e57236054f8dc2 \"HTTP/1.1 202 Accepted\"\n",
      "INFO:httpx:HTTP Request: POST http://localhost:8000/messages/?session_id=69b6a4e42efb42b6a8e57236054f8dc2 \"HTTP/1.1 202 Accepted\"\n",
      "INFO:httpx:HTTP Request: POST http://localhost:8000/messages/?session_id=69b6a4e42efb42b6a8e57236054f8dc2 \"HTTP/1.1 202 Accepted\"\n",
      "INFO:dapr_agents.agents.agent.agent:Iteration 2/10 started.\n",
      "INFO:dapr_agents.llm.utils.request:Tools are available in the request.\n",
      "INFO:dapr_agents.llm.openai.chat:Invoking ChatCompletion API.\n"
     ]
    },
    {
     "name": "stdout",
     "output_type": "stream",
     "text": [
      "\u001b[38;2;147;191;183massistant:\u001b[0m\n",
      "\u001b[38;2;147;191;183m\u001b[0m\u001b[38;2;147;191;183m{'content': None, 'role': 'assistant', 'tool_calls': [{'id': 'call_gSzbDFop9IHELtKkbPFYCCur', 'type': 'function', 'function': {'name': 'MathMultiply', 'arguments': '{\"a\":2,\"b\":2}'}}]}\u001b[0m\u001b[0m\n",
      "\u001b[0m\u001b[0m\n",
      "\u001b[0m--------------------------------------------------------------------------------\u001b[0m\n",
      "\u001b[0m\u001b[0m\u001b[0m\n",
      "\u001b[38;2;191;69;126mMathMultiply(tool) (Id: call_gSzbDFop9IHELtKkbPFYCCur):\u001b[0m\n",
      "\u001b[38;2;191;69;126m\u001b[0m\u001b[38;2;191;69;126m4\u001b[0m\u001b[0m\n",
      "\u001b[0m\u001b[0m\n",
      "\u001b[0m--------------------------------------------------------------------------------\u001b[0m\n",
      "\u001b[0m\u001b[0m\u001b[0m\n"
     ]
    },
    {
     "name": "stderr",
     "output_type": "stream",
     "text": [
      "INFO:httpx:HTTP Request: POST https://api.openai.com/v1/chat/completions \"HTTP/1.1 200 OK\"\n",
      "INFO:dapr_agents.llm.openai.chat:Chat completion retrieved successfully.\n"
     ]
    },
    {
     "name": "stdout",
     "output_type": "stream",
     "text": [
      "\u001b[38;2;147;191;183massistant:\u001b[0m\n",
      "\u001b[38;2;147;191;183m\u001b[0m\u001b[38;2;147;191;183m{'content': '2 times 2 equals 4.', 'role': 'assistant'}\u001b[0m\u001b[0m\n",
      "\u001b[0m\u001b[0m\n",
      "\u001b[0m--------------------------------------------------------------------------------\u001b[0m\n",
      "\u001b[0m\u001b[0m\u001b[0m\n"
     ]
    },
    {
     "data": {
      "text/plain": [
       "'2 times 2 equals 4.'"
      ]
     },
     "execution_count": 14,
     "metadata": {},
     "output_type": "execute_result"
    }
   ],
   "source": [
    "await agent.run(\"What is 2 times 2?\")"
   ]
  },
  {
   "cell_type": "code",
   "execution_count": 15,
   "metadata": {},
   "outputs": [
    {
     "name": "stderr",
     "output_type": "stream",
     "text": [
      "INFO:dapr_agents.agents.agent.agent:Iteration 1/10 started.\n",
      "INFO:dapr_agents.llm.utils.request:Tools are available in the request.\n",
      "INFO:dapr_agents.llm.openai.chat:Invoking ChatCompletion API.\n"
     ]
    },
    {
     "name": "stdout",
     "output_type": "stream",
     "text": [
      "\u001b[38;2;242;182;128muser:\u001b[0m\n",
      "\u001b[38;2;242;182;128m\u001b[0m\u001b[38;2;242;182;128mWhat is 2 times 3?\u001b[0m\u001b[0m\n",
      "\u001b[0m\u001b[0m\n",
      "\u001b[0m--------------------------------------------------------------------------------\u001b[0m\n",
      "\u001b[0m\u001b[0m\u001b[0m\n"
     ]
    },
    {
     "name": "stderr",
     "output_type": "stream",
     "text": [
      "INFO:httpx:HTTP Request: POST https://api.openai.com/v1/chat/completions \"HTTP/1.1 200 OK\"\n",
      "INFO:dapr_agents.llm.openai.chat:Chat completion retrieved successfully.\n",
      "INFO:dapr_agents.agents.agent.agent:Executing MathMultiply with arguments {'a': 2, 'b': 3}\n",
      "INFO:dapr_agents.tool.executor:Running tool (auto): MathMultiply\n",
      "INFO:mcp.client.sse:Connecting to SSE endpoint: http://localhost:8000/sse\n",
      "INFO:httpx:HTTP Request: GET http://localhost:8000/sse \"HTTP/1.1 200 OK\"\n",
      "INFO:mcp.client.sse:Received endpoint URL: http://localhost:8000/messages/?session_id=19f3b1164f144b668e1f1cacaffff2a0\n",
      "INFO:mcp.client.sse:Starting post writer with endpoint URL: http://localhost:8000/messages/?session_id=19f3b1164f144b668e1f1cacaffff2a0\n",
      "INFO:httpx:HTTP Request: POST http://localhost:8000/messages/?session_id=19f3b1164f144b668e1f1cacaffff2a0 \"HTTP/1.1 202 Accepted\"\n",
      "INFO:httpx:HTTP Request: POST http://localhost:8000/messages/?session_id=19f3b1164f144b668e1f1cacaffff2a0 \"HTTP/1.1 202 Accepted\"\n",
      "INFO:httpx:HTTP Request: POST http://localhost:8000/messages/?session_id=19f3b1164f144b668e1f1cacaffff2a0 \"HTTP/1.1 202 Accepted\"\n",
      "INFO:dapr_agents.agents.agent.agent:Iteration 2/10 started.\n",
      "INFO:dapr_agents.llm.utils.request:Tools are available in the request.\n",
      "INFO:dapr_agents.llm.openai.chat:Invoking ChatCompletion API.\n"
     ]
    },
    {
     "name": "stdout",
     "output_type": "stream",
     "text": [
      "\u001b[38;2;147;191;183massistant:\u001b[0m\n",
      "\u001b[38;2;147;191;183m\u001b[0m\u001b[38;2;147;191;183m{'content': None, 'role': 'assistant', 'tool_calls': [{'id': 'call_yLVMJfOPjW5EpwY9ncxVyVGR', 'type': 'function', 'function': {'name': 'MathMultiply', 'arguments': '{\"a\":2,\"b\":3}'}}]}\u001b[0m\u001b[0m\n",
      "\u001b[0m\u001b[0m\n",
      "\u001b[0m--------------------------------------------------------------------------------\u001b[0m\n",
      "\u001b[0m\u001b[0m\u001b[0m\n",
      "\u001b[38;2;191;69;126mMathMultiply(tool) (Id: call_yLVMJfOPjW5EpwY9ncxVyVGR):\u001b[0m\n",
      "\u001b[38;2;191;69;126m\u001b[0m\u001b[38;2;191;69;126m6\u001b[0m\u001b[0m\n",
      "\u001b[0m\u001b[0m\n",
      "\u001b[0m--------------------------------------------------------------------------------\u001b[0m\n",
      "\u001b[0m\u001b[0m\u001b[0m\n"
     ]
    },
    {
     "name": "stderr",
     "output_type": "stream",
     "text": [
      "INFO:httpx:HTTP Request: POST https://api.openai.com/v1/chat/completions \"HTTP/1.1 200 OK\"\n",
      "INFO:dapr_agents.llm.openai.chat:Chat completion retrieved successfully.\n"
     ]
    },
    {
     "name": "stdout",
     "output_type": "stream",
     "text": [
      "\u001b[38;2;147;191;183massistant:\u001b[0m\n",
      "\u001b[38;2;147;191;183m\u001b[0m\u001b[38;2;147;191;183m{'content': '2 times 3 equals 6.', 'role': 'assistant'}\u001b[0m\u001b[0m\n",
      "\u001b[0m\u001b[0m\n",
      "\u001b[0m--------------------------------------------------------------------------------\u001b[0m\n",
      "\u001b[0m\u001b[0m\u001b[0m\n"
     ]
    },
    {
     "data": {
      "text/plain": [
       "'2 times 3 equals 6.'"
      ]
     },
     "execution_count": 15,
     "metadata": {},
     "output_type": "execute_result"
    }
   ],
   "source": [
    "await agent.run(\"What is 2 times 3?\")"
   ]
  },
  {
   "cell_type": "code",
   "execution_count": null,
   "metadata": {},
   "outputs": [],
   "source": []
  }
 ],
 "metadata": {
  "kernelspec": {
   "display_name": ".venv",
   "language": "python",
   "name": "python3"
  },
  "language_info": {
   "codemirror_mode": {
    "name": "ipython",
    "version": 3
   },
   "file_extension": ".py",
   "mimetype": "text/x-python",
   "name": "python",
   "nbconvert_exporter": "python",
   "pygments_lexer": "ipython3",
   "version": "3.13.3"
  }
 },
 "nbformat": 4,
 "nbformat_minor": 2
}
